{
 "cells": [
  {
   "cell_type": "code",
   "execution_count": 33,
   "metadata": {},
   "outputs": [
    {
     "name": "stdout",
     "output_type": "stream",
     "text": [
      "The autoreload extension is already loaded. To reload it, use:\n",
      "  %reload_ext autoreload\n"
     ]
    }
   ],
   "source": [
    "%load_ext autoreload\n",
    "%autoreload 2"
   ]
  },
  {
   "cell_type": "code",
   "execution_count": 34,
   "metadata": {},
   "outputs": [],
   "source": [
    "import numpy as np\n",
    "from tqdm import tqdm\n",
    "\n",
    "p = 10\n",
    "k = 2\n",
    "d = 3\n",
    "gamma = 5e-2\n",
    "noise = 1e-3\n",
    "\n",
    "log_time = 4\n",
    "dt = 1e-3\n",
    "activation = 'erf'\n",
    "\n",
    "store_path = f'computation-database/classic-limit/{activation}'\n",
    "ic_string = 'classic-limit'"
   ]
  },
  {
   "cell_type": "code",
   "execution_count": 35,
   "metadata": {},
   "outputs": [],
   "source": [
    "from committee_learning.initial_conditions import RandomNormalInitialConditions\n",
    "from committee_learning.simulation import Simulation\n",
    "from committee_learning.ode import ErfActivationODE, SquaredActivationODE\n",
    "from committee_learning.result import SimulationResult, FullODEResult\n",
    "\n",
    "ic = RandomNormalInitialConditions(p, k, d, seed = 3, orth_teacher=True)\n",
    "\n",
    "\n",
    "sim = Simulation(\n",
    "  d=d,\n",
    "  p=p,\n",
    "  k=k,\n",
    "  noise=noise,\n",
    "  Wt=ic.Wt,\n",
    "  gamma=gamma,\n",
    "  activation=activation,\n",
    "  W0=ic.W0\n",
    ")\n",
    "\n",
    "simr = SimulationResult(ic_string, id = 2)\n",
    "\n",
    "\n",
    "if activation == 'erf':\n",
    "  FullODE = ErfActivationODE\n",
    "elif activation == 'square':\n",
    "  FullODE = SquaredActivationODE\n",
    "\n",
    "ode = FullODE(ic.P,ic.Q,ic.M,dt, gamma_over_p = gamma/p, noise = noise)\n",
    "oder = FullODEResult(ic_string, id = 2)\n"
   ]
  },
  {
   "cell_type": "code",
   "execution_count": 36,
   "metadata": {},
   "outputs": [
    {
     "name": "stderr",
     "output_type": "stream",
     "text": [
      "100%|██████████| 1/1 [00:00<00:00, 621.93it/s]\n",
      "100%|██████████| 9/9 [00:00<00:00, 1541.08it/s]\n",
      "100%|██████████| 90/90 [00:00<00:00, 2236.98it/s]\n",
      "100%|██████████| 900/900 [00:00<00:00, 2995.25it/s]\n",
      "100%|██████████| 9000/9000 [00:03<00:00, 2845.71it/s]\n",
      "100%|██████████| 90000/90000 [00:28<00:00, 3175.87it/s]\n",
      "100%|██████████| 900000/900000 [04:51<00:00, 3089.28it/s]\n",
      "100%|██████████| 5000000/5000000 [27:25<00:00, 3038.92it/s]\n"
     ]
    }
   ],
   "source": [
    "simr.from_file_or_run(sim,log_time+np.log10(d*p/gamma),path=store_path + 'sim/')"
   ]
  },
  {
   "cell_type": "code",
   "execution_count": 37,
   "metadata": {},
   "outputs": [
    {
     "name": "stderr",
     "output_type": "stream",
     "text": [
      "100%|██████████| 10/10 [00:00<00:00, 8076.84it/s]\n",
      "100%|██████████| 90/90 [00:00<00:00, 10947.69it/s]\n",
      "100%|██████████| 900/900 [00:00<00:00, 29389.71it/s]\n",
      "100%|██████████| 9000/9000 [00:00<00:00, 35760.69it/s]\n",
      "100%|██████████| 90000/90000 [00:02<00:00, 35109.10it/s]\n",
      "100%|██████████| 900000/900000 [00:25<00:00, 35712.93it/s]\n",
      "100%|██████████| 9000000/9000000 [04:10<00:00, 35874.97it/s]\n"
     ]
    }
   ],
   "source": [
    "oder.from_file_or_run(ode,log_time,path=store_path+'ode/')"
   ]
  },
  {
   "cell_type": "code",
   "execution_count": 38,
   "metadata": {},
   "outputs": [
    {
     "data": {
      "image/png": "[encoded data removed]",
      "text/plain": [
       "<Figure size 800x550 with 1 Axes>"
      ]
     },
     "metadata": {},
     "output_type": "display_data"
    }
   ],
   "source": [
    "from committee_learning.utilities import plot_style\n",
    "\n",
    "import matplotlib.pyplot as plt\n",
    "\n",
    "with plot_style():\n",
    "  fig, ax = plt.subplots()\n",
    "  # ax.set_title(f'$\\\\gamma\\\\to0$ ($\\\\gamma=\\\\num{{{gamma}}}$ for the simulation)')\n",
    "  ax.set_xlim(dt,10**(log_time))\n",
    "  ax.set_xscale('log')\n",
    "  ax.set_yscale('log')\n",
    "  ax.set_xlabel(r'$t$')\n",
    "  ax.set_ylabel(r'$\\mathcal{R}-\\frac{\\Delta}{2}$')\n",
    "\n",
    "  ax.plot(np.array(\n",
    "    simr.steps[::15])*(gamma/(p*d)),\n",
    "    np.array(simr.risks[::15]),# + noise,\n",
    "    ls='',\n",
    "    label=f'Simulation',\n",
    "    marker='o'\n",
    "  )\n",
    "  ax.plot(np.array(oder.times), np.array(oder.risks), label='ODE')\n",
    "  ax.legend()\n",
    "  # fig.savefig(f'figures/classic_limit-k{k}_p{p}_d{d}_gamma{gamma:.4f}_noise{noise}.pdf', bbox_inches='tight')\n",
    "  plt.show()\n"
   ]
  },
  {
   "cell_type": "code",
   "execution_count": 68,
   "metadata": {},
   "outputs": [
    {
     "name": "stdout",
     "output_type": "stream",
     "text": [
      "600\n"
     ]
    }
   ],
   "source": [
    "from matplotlib import animation\n",
    "from IPython import display\n",
    "from mpl_toolkits.axes_grid1.inset_locator import inset_axes\n",
    "\n",
    "def norm_M(Q, P):\n",
    "  npQ = np.array(Q)\n",
    "  npP = np.array(P)\n",
    "  return np.sqrt(np.einsum('tj,r->tjr', np.diagonal(npQ, axis1=1, axis2=2), np.diagonal(npP, axis1=0, axis2=1)))\n",
    "\n",
    "Msim = np.array(simr.Ms)/norm_M(simr.Qs, simr.P)\n",
    "Mode = np.array(oder.Ms)/norm_M(oder.Qs, oder.P)\n",
    "\n",
    "print(Mode.shape[0])\n",
    "with plot_style(style='classic'):\n",
    "  fig, ax = plt.subplots(figsize=(5,5))\n",
    "  ax.set_xlim(-1,1)\n",
    "  ax.set_ylim(-1,1)\n",
    "  ax.axvline(0.,0.,2., ls='-.', c='red')\n",
    "  ax.axhline(0.,0.,2., ls='-.', c='red')\n",
    "  ax.set_xlabel(r'$M_{j1}/\\sqrt{Q_{jj}P_{11}}$')\n",
    "  ax.set_ylabel(r'$M_{j2}/\\sqrt{Q_{jj}P_{22}}$')\n",
    "  ax.set_yticklabels([])\n",
    "  ax.set_xticklabels([])\n",
    "  ax.plot(1./np.sqrt(2), 1./np.sqrt(2), marker='o', c='yellow', ms = 15.)\n",
    "  ax.plot(1, 0, marker='s', c='red', ms = 15.)\n",
    "  ax.plot(0, 1, marker='s', c='red', ms = 15.)\n",
    "  risk_ax = inset_axes(ax, width='35%', height='32%', loc = 3)\n",
    "  risk_ax.set_xscale('log')\n",
    "  risk_ax.set_yscale('log')\n",
    "  risk_ax.set_xlabel('$t$', labelpad= -18.)\n",
    "  risk_ax.set_ylabel(r'$\\mathcal{R}-\\frac{\\Delta}{2}$', labelpad= -27.)\n",
    "  risk_ax.set_yticklabels([])\n",
    "  risk_ax.set_xticklabels([])\n",
    "  risk_ax.set_xlim(5e-2,10**4)\n",
    "  risk_ax.set_ylim(5e-7,.15)\n",
    "\n",
    "  sim_particles = [ax.plot([], [])[0] for j in range(p)]\n",
    "  ode_particles = [ax.plot([], [])[0] for j in range(p)]\n",
    "  risk_plot = risk_ax.plot([], [])[0]\n",
    "  timestamp = ax.text(-.9, .9, '', fontsize=15)\n",
    "\n",
    "  def init():\n",
    "    for sp in sim_particles:\n",
    "      sp.set_data([],[])\n",
    "    for op in ode_particles:\n",
    "      op.set_data([],[])\n",
    "    risk_plot.set_data([],[])\n",
    "    timestamp.set_text(f'$t={oder.times[0]}$')\n",
    "    return (*sim_particles, *ode_particles, risk_plot, timestamp)\n",
    "\n",
    "  def animate(frame_number):\n",
    "    for j,op in enumerate(ode_particles):\n",
    "      op.set_data(Mode[:frame_number,j,0],Mode[:frame_number,j,1])\n",
    "\n",
    "    risk_plot.set_data(oder.times[:frame_number], oder.risks[:frame_number])\n",
    "    timestamp.set_text(f'$t={oder.times[frame_number]:.2f}$')\n",
    "    return (*sim_particles, *ode_particles, risk_plot, timestamp)\n",
    "\n",
    "  anim = animation.FuncAnimation(fig, animate, init_func=init, frames=range(0,Mode.shape[0], 10), interval=150, blit=True)\n",
    "\n",
    "  # To save the animation as a gif\n",
    "  writer = animation.PillowWriter(fps=15, bitrate=1800)\n",
    "  anim.save('figures/scatter.gif', writer=writer)\n",
    "\n",
    "  video = anim.to_html5_video()\n",
    "  html = display.HTML(video)\n",
    "  display.display(html)\n"
   ]
  }
 ],
 "metadata": {
  "kernelspec": {
   "display_name": "venv",
   "language": "python",
   "name": "python3"
  },
  "language_info": {
   "codemirror_mode": {
    "name": "ipython",
    "version": 3
   },
   "file_extension": ".py",
   "mimetype": "text/x-python",
   "name": "python",
   "nbconvert_exporter": "python",
   "pygments_lexer": "ipython3",
   "version": "3.9.15"
  },
  "orig_nbformat": 4,
  "vscode": {
   "interpreter": {
    "hash": "22b192b119da8c1998771d7f1406dd69952b432ecddfc0f989a2ad496a6400ce"
   }
  }
 },
 "nbformat": 4,
 "nbformat_minor": 2
}
